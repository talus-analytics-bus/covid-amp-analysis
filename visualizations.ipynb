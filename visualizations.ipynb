{
 "cells": [
  {
   "cell_type": "markdown",
   "id": "f54c267b-8f98-4ad1-b306-f7f6e8b91133",
   "metadata": {},
   "source": [
    "# Processing COVID AMP dataset for analysis and visualization"
   ]
  },
  {
   "cell_type": "markdown",
   "id": "a7a29e24-115a-4140-ad40-137ab35c5837",
   "metadata": {},
   "source": [
    "## Import"
   ]
  },
  {
   "cell_type": "code",
   "execution_count": 271,
   "id": "c1053e26-3016-471f-a1bd-06ebe1a934f5",
   "metadata": {},
   "outputs": [],
   "source": [
    "import pandas as pd\n",
    "import numpy as np\n",
    "from pyairtable import Table\n",
    "\n",
    "import datetime as dt\n",
    "import matplotlib\n",
    "from matplotlib import font_manager\n",
    "from matplotlib.dates import date2num\n",
    "import matplotlib.dates as mdates\n",
    "import matplotlib.pyplot as plt\n",
    "from matplotlib.dates import DateFormatter\n",
    "from matplotlib.ticker import FuncFormatter\n",
    "import matplotlib.dates as md\n",
    "import seaborn as sns\n",
    "import time\n",
    "import string\n",
    "import warnings\n",
    "warnings.filterwarnings('ignore')"
   ]
  },
  {
   "cell_type": "code",
   "execution_count": 2,
   "id": "a903e948-d5d4-4dfd-96af-0bc3089b58c8",
   "metadata": {},
   "outputs": [],
   "source": [
    "base_key = 'appoXaOlIgpiHK3I2'\n",
    "table_name = 'Policy Database'\n",
    "\n",
    "# AIRTABLE API KEY -- DON'T COMMIT INTO GIT!\n",
    "api_key = 'MY_AIRTABLE_KEY'"
   ]
  },
  {
   "cell_type": "code",
   "execution_count": 89,
   "id": "7eac8d09-ea88-47a1-a5d2-2a035d071a91",
   "metadata": {},
   "outputs": [],
   "source": [
    "table = Table(api_key, base_key, table_name)\n",
    "\n",
    "records = table.all()"
   ]
  },
  {
   "cell_type": "code",
   "execution_count": 190,
   "id": "594b6463-ad40-4c71-a00e-a4b36836567b",
   "metadata": {},
   "outputs": [],
   "source": [
    "full = pd.DataFrame.from_records((r['fields'] for r in records))"
   ]
  },
  {
   "cell_type": "markdown",
   "id": "0080f7f8-0ab5-43f9-9d9a-a43ac25db38b",
   "metadata": {},
   "source": [
    "## Cleaning"
   ]
  },
  {
   "cell_type": "code",
   "execution_count": 191,
   "id": "d5016f45-4f95-46bb-adb9-c1a37492d74e",
   "metadata": {},
   "outputs": [],
   "source": [
    "# remove non-policy guidance\n",
    "full = full.loc[full['Policy/law type'] != 'Non-policy guidance']"
   ]
  },
  {
   "cell_type": "code",
   "execution_count": 192,
   "id": "9ff378e5-1883-4c3c-8b00-640faf1d246f",
   "metadata": {},
   "outputs": [],
   "source": [
    "# drop rows missing key information\n",
    "full = full.dropna(subset=['Unique ID',\n",
    "                           'Policy category', \n",
    "                           'Policy description', \n",
    "                           'Authorizing country ISO'])"
   ]
  },
  {
   "cell_type": "code",
   "execution_count": 193,
   "id": "dafa6871-94b7-4940-9c69-51955a2b1c05",
   "metadata": {},
   "outputs": [],
   "source": [
    "# drop down to a select number of relevant columns\n",
    "cols = ['Unique ID','Issued date','Effective start date','Anticipated end date','Actual end date','Policy category','Policy subcategory', 'Policy target','Policy relaxing or restricting','Authorizing country ISO','Auth state names (lookup)']\n",
    "full = full[cols]"
   ]
  },
  {
   "cell_type": "code",
   "execution_count": 194,
   "id": "0561cea0-adde-415c-9dd0-6665f22d1a61",
   "metadata": {},
   "outputs": [],
   "source": [
    "# convert to datetime for indexing\n",
    "full['Issued date'] = pd.to_datetime(full['Issued date'], format='%Y/%m/%d')\n",
    "full['Effective start date'] = pd.to_datetime(full['Effective start date'], format='%Y/%m/%d')\n",
    "full['Anticipated end date'] = pd.to_datetime(full['Anticipated end date'], format='%Y/%m/%d')\n",
    "full['Actual end date'] = pd.to_datetime(full['Actual end date'], format='%Y/%m/%d')"
   ]
  },
  {
   "cell_type": "code",
   "execution_count": 195,
   "id": "c25b2b13-930c-4e3e-99bb-7211c39ed4a2",
   "metadata": {},
   "outputs": [],
   "source": [
    "# rename geo columns \n",
    "full = full.rename(columns={'Auth state names (lookup)': 'State', 'Authorizing country ISO':'Country'})"
   ]
  },
  {
   "cell_type": "code",
   "execution_count": 196,
   "id": "bf07b5a0-773e-445f-8f9b-b7da51672131",
   "metadata": {},
   "outputs": [],
   "source": [
    "# remove brackets from state and country name\n",
    "full['State'] = full['State'].astype(str)\n",
    "full['State'] = full['State'].str.extract(\"\\'(.*)\\'\")\n",
    "\n",
    "full['Country'] = full['Country'].astype(str)\n",
    "full['Country'] = full['Country'].str.extract(\"\\'(.*)\\'\")"
   ]
  },
  {
   "cell_type": "code",
   "execution_count": 165,
   "id": "8588b5df-b0eb-40cb-84b3-cf7e972ff1d4",
   "metadata": {},
   "outputs": [],
   "source": [
    "full.to_csv('processed/airtable_cleaned_033123.csv')"
   ]
  },
  {
   "cell_type": "markdown",
   "id": "ebe50d29-f017-47c3-92b2-7a9ebbb987c3",
   "metadata": {},
   "source": [
    "## Visualizations"
   ]
  },
  {
   "cell_type": "markdown",
   "id": "235b2fd8-fcc9-402f-b43d-3bf3a64d7bf5",
   "metadata": {},
   "source": [
    "### Toolkit"
   ]
  },
  {
   "cell_type": "code",
   "execution_count": 405,
   "id": "040b7460-eac5-4096-adb7-019ad479bf26",
   "metadata": {},
   "outputs": [],
   "source": [
    "clean = full.copy()"
   ]
  },
  {
   "cell_type": "code",
   "execution_count": 406,
   "id": "f406ebbc-9a52-41af-9a67-875283c1d9c7",
   "metadata": {},
   "outputs": [],
   "source": [
    "# Cut off for analysis\n",
    "clean = clean.loc[clean['Effective start date'] > '2019-12-31'].reset_index(drop=True)\n",
    "clean = clean.loc[clean['Effective start date'] < '2023-01-01'].reset_index(drop=True)\n"
   ]
  },
  {
   "cell_type": "code",
   "execution_count": 537,
   "id": "d9407634-741f-420b-8ca3-309514a34a85",
   "metadata": {},
   "outputs": [
    {
     "data": {
      "image/png": "[encoded data removed]",
      "text/plain": [
       "<Figure size 720x72 with 1 Axes>"
      ]
     },
     "metadata": {},
     "output_type": "display_data"
    }
   ],
   "source": [
    "# Define rainbow color palette for categories\n",
    "rainbow = {\n",
    "    'Authorization and enforcement': '#1A5784',\n",
    "    'Contact tracing/Testing': '#38828C',\n",
    "    'Emergency declarations': '#84B5B2',\n",
    "    'Enabling and relief measures':'#60904F',\n",
    "    'Face mask':'#ACC253',\n",
    "    'Military mobilization':'#E7C960',\n",
    "    'Social distancing':'#E49243',\n",
    "    'Support for public health and clinical capacity':'#D75F58',\n",
    "    'Travel restrictions':'#A04275',\n",
    "    'Vaccinations':'#633D71'\n",
    "}\n",
    "\n",
    "colors = ['#1A5784', '#38828C', '#84B5B2', '#60904F', '#ACC253', '#E7C960', '#E49243', '#D75F58', '#A04275', '#633D71']\n",
    "sns.palplot(sns.color_palette(colors))\n",
    "\n"
   ]
  },
  {
   "cell_type": "code",
   "execution_count": 408,
   "id": "29204381-7a7f-4646-bde3-5f4fab477a8e",
   "metadata": {},
   "outputs": [
    {
     "data": {
      "image/png": "[encoded data removed]",
      "text/plain": [
       "<Figure size 144x72 with 1 Axes>"
      ]
     },
     "metadata": {},
     "output_type": "display_data"
    }
   ],
   "source": [
    "# Define gradient color\n",
    "gradient = ['#147885', '#FFFFFF']\n",
    "sns.palplot(sns.color_palette(gradient))"
   ]
  },
  {
   "cell_type": "code",
   "execution_count": 409,
   "id": "9fb2f54b-a54f-4cdb-abcb-7ef3f2011f7d",
   "metadata": {},
   "outputs": [
    {
     "data": {
      "image/png": "[encoded data removed]",
      "text/plain": [
       "<Figure size 216x72 with 1 Axes>"
      ]
     },
     "metadata": {},
     "output_type": "display_data"
    }
   ],
   "source": [
    "# Define small color palette for relaxing/restricting\n",
    "three = ['#5495BA','#DD7D54','#CACED3']\n",
    "sns.palplot(sns.color_palette(three))"
   ]
  },
  {
   "cell_type": "code",
   "execution_count": 410,
   "id": "b43cdc9b-3bf0-42b7-8cfd-748641fdc87a",
   "metadata": {},
   "outputs": [
    {
     "data": {
      "image/png": "[encoded data removed]",
      "text/plain": [
       "<Figure size 288x72 with 1 Axes>"
      ]
     },
     "metadata": {},
     "output_type": "display_data"
    }
   ],
   "source": [
    "# Define chart color palette\n",
    "chart = ['#2C2B2B','#565E69','#CACED3','#E7EAEE']\n",
    "sns.palplot(sns.color_palette(chart))"
   ]
  },
  {
   "cell_type": "code",
   "execution_count": 717,
   "id": "37e6aa3a-871b-4ff2-8e7d-34d14af5526c",
   "metadata": {},
   "outputs": [],
   "source": [
    "# Define constants\n",
    "figure_size = (18,6)\n",
    "\n",
    "# Define x-axis range\n",
    "left = dt.date(2019, 10, 1)\n",
    "right = dt.date(2023, 1, 1)\n",
    "\n",
    "# Set background\n",
    "sns.set_context('talk') #change the size from small to medium\n",
    "sns.set_style('white') #change bg to white\n",
    "\n",
    "# Add every font at the specified location\n",
    "font_dir = ['/Users/haileyrobertson/Library/Fonts']\n",
    "for font in font_manager.findSystemFonts(font_dir):\n",
    "    font_manager.fontManager.addfont(font)\n",
    "    \n",
    "# Set font family globally\n",
    "plt.rcParams['font.family'] = 'Open Sans'\n",
    "plt.rcParams['font.weight'] = 'bold'\n",
    "\n",
    "# Set margins\n",
    "plt.rcParams['axes.xmargin'] = 0.9\n",
    "\n",
    "# Define list of date formats\n",
    "zfmts = ['', '%Y','%b\\n%Y', '%b', '%b-%d', '%H:%M', '%H:%M']\n",
    "\n",
    "# Format axes \n",
    "plt.rcParams['axes.spines.top'] = False\n",
    "plt.rcParams['axes.spines.bottom'] = True\n",
    "plt.rcParams['axes.spines.left'] = False\n",
    "plt.rcParams['axes.spines.right'] = False\n",
    "plt.rcParams['axes.axisbelow'] = True\n",
    "plt.rcParams['axes.linewidth'] = 1\n",
    "plt.rcParams['axes.titlepad'] = 30\n",
    "\n",
    "# Format ticks\n",
    "plt.rcParams[\"xtick.direction\"] = \"out\"\n",
    "plt.rcParams['xtick.major.size'] = 5\n",
    "plt.rcParams['xtick.major.size'] = 5\n",
    "plt.rcParams['xtick.bottom'] = True\n",
    "plt.rcParams['xtick.color'] = chart[2]\n",
    "plt.rcParams['xtick.major.width'] = 0.5\n",
    "plt.rcParams['xtick.minor.width'] = 0.5\n",
    "plt.rcParams['xtick.labelcolor'] = chart[1]\n",
    "plt.rcParams['xtick.labelsize'] = 12\n",
    "\n",
    "plt.rcParams[\"ytick.direction\"] = \"in\"\n",
    "plt.rcParams[\"ytick.major.pad\"] = -35\n",
    "plt.rcParams[\"ytick.minor.pad\"] = -35\n",
    "plt.rcParams[\"ytick.major.size\"] = 10\n",
    "plt.rcParams[\"ytick.minor.size\"] = 10\n",
    "plt.rcParams[\"ytick.color\"] = chart[2]\n",
    "plt.rcParams[\"ytick.major.width\"] = 0.5\n",
    "plt.rcParams[\"ytick.minor.width\"] = 0.5\n",
    "plt.rcParams[\"ytick.labelcolor\"] = chart[1]\n",
    "plt.rcParams[\"ytick.labelsize\"] = 12\n",
    "\n",
    "\n",
    "# Adjust fontdict for title\n",
    "titlefont = {'family': 'Open Sans',\n",
    "             'color':  chart[0], \n",
    "             'weight': 400,\n",
    "             'size': 20}\n",
    "\n",
    "# Set grid style\n",
    "plt.rcParams['grid.color'] = chart[2]\n",
    "plt.rcParams['grid.linestyle'] = 'dashed'\n",
    "plt.rcParams['grid.linewidth']=0.5\n",
    "\n",
    "# Set legend style\n",
    "plt.rcParams['legend.frameon'] = False\n",
    "plt.rcParams['legend.fontsize'] = 12\n",
    "plt.rcParams['legend.handlelength'] = 1\n",
    "plt.rcParams['legend.handleheight'] = 1.125\n",
    "\n",
    "\n",
    "\n",
    "# Set axis labels\n",
    "plt.rcParams['axes.labelsize'] = 12\n",
    "plt.rcParams['axes.labelcolor'] = chart[1]"
   ]
  },
  {
   "cell_type": "markdown",
   "id": "7f659530-2fef-45da-b8ee-13624e594a06",
   "metadata": {},
   "source": [
    "### Figure 1"
   ]
  },
  {
   "cell_type": "markdown",
   "id": "866346a2-0870-424c-ad56-484fc9289376",
   "metadata": {},
   "source": [
    "#### Category distribution of policies by month, global"
   ]
  },
  {
   "cell_type": "code",
   "execution_count": 566,
   "id": "1a7e75c1-8363-431d-856f-3a0b5793c6f7",
   "metadata": {},
   "outputs": [],
   "source": [
    "# Count all policies in a given category, by month\n",
    "global_cat_count = clean.groupby(['Policy category', pd.Grouper(key='Effective start date', freq='M')]).size().reset_index(name=\"Policy count\")"
   ]
  },
  {
   "cell_type": "code",
   "execution_count": 567,
   "id": "96b19d75-88bd-496f-8f2f-241943d6a810",
   "metadata": {},
   "outputs": [],
   "source": [
    "global_cat_count['Effective start date']= global_cat_count['Effective start date']- pd.offsets.MonthBegin(1)"
   ]
  },
  {
   "cell_type": "code",
   "execution_count": 568,
   "id": "90794a0e-2ad1-43e7-bf47-99da53b9f550",
   "metadata": {},
   "outputs": [],
   "source": [
    "global_cat_count_pivot = global_cat_count.pivot_table(index=pd.Grouper(key='Effective start date', freq='M'), columns='Policy category', values='Policy count', fill_value=0)\n",
    "global_cat_count_pivot = global_cat_count_pivot.reset_index().rename_axis(None, axis=1)"
   ]
  },
  {
   "cell_type": "code",
   "execution_count": 569,
   "id": "73825b5a-d222-4d3d-bfdc-299d3e2934f2",
   "metadata": {},
   "outputs": [],
   "source": [
    "global_cat_count_pivot['Effective start date']= global_cat_count_pivot['Effective start date']- pd.offsets.MonthBegin(1)"
   ]
  },
  {
   "cell_type": "code",
   "execution_count": 752,
   "id": "4a95d6fd-6d44-4ce2-8955-7e489846103a",
   "metadata": {},
   "outputs": [
    {
     "data": {
      "image/png": "[encoded data removed]",
      "text/plain": [
       "<Figure size 1296x432 with 1 Axes>"
      ]
     },
     "metadata": {},
     "output_type": "display_data"
    }
   ],
   "source": [
    "# Format figure\n",
    "fig, ax = plt.subplots(figsize=(figure_size))\n",
    "ax.spines.left.set_visible(False)\n",
    "\n",
    "# Format bottom axis\n",
    "for axis in ['bottom']:\n",
    "    ax.spines[axis].set_color(chart[2])\n",
    "    \n",
    "# Add grid lines    \n",
    "plt.grid(axis='y')\n",
    "\n",
    "\n",
    "# Define variables\n",
    "x=global_cat_count_pivot['Effective start date']\n",
    "y1=global_cat_count_pivot['Authorization and enforcement']\n",
    "y2=global_cat_count_pivot['Contact tracing/Testing']\n",
    "y3=global_cat_count_pivot['Emergency declarations']\n",
    "y4=global_cat_count_pivot['Enabling and relief measures']\n",
    "y5=global_cat_count_pivot['Face mask']\n",
    "y6=global_cat_count_pivot['Military mobilization']\n",
    "y7=global_cat_count_pivot['Social distancing']\n",
    "y8=global_cat_count_pivot['Support for public health and clinical capacity']\n",
    "y9= global_cat_count_pivot['Travel restrictions']\n",
    "y10 = global_cat_count_pivot['Vaccinations']\n",
    "\n",
    "# Plot bars\n",
    "# The thing that gets plotted last in this list gets plotted on the bottom\n",
    "\n",
    "plt.bar(x, y1, bottom=y3+y4+y5+y6+y7+y8+y9+y10, linewidth=0.5, width=20, align=\"center\", color=colors[0], label='Authorization and enforcement') \n",
    "plt.bar(x, y2, bottom=y3+y4+y5+y6+y7+y8+y9+y10, linewidth=0.5, width=20, align=\"center\", color=colors[1], label='Contact tracing and testing')\n",
    "plt.bar(x, y3, bottom=y4+y5+y6+y7+y8+y9+y10, linewidth=0.5,width=20, align=\"center\", color=colors[2], label='Emergency declarations')\n",
    "plt.bar(x, y4, bottom=y5+y6+y7+y8+y9+y10, linewidth=0.5,width=20, align=\"center\", color=colors[3], label='Enabling and relief measures')\n",
    "plt.bar(x, y5, bottom=y6+y7+y8+y9+y10, linewidth=0.5, width=20, align=\"center\", color=colors[4], label='Face mask')\n",
    "plt.bar(x, y6, bottom=y7+y8+y9+y10, linewidth=0.5, width=20, align=\"center\", color=colors[5], label='Military mobilization')\n",
    "plt.bar(x, y7, bottom=y8+y9+y10, linewidth=0.5,width=20, align=\"center\", color=colors[6], label='Social distancing')\n",
    "plt.bar(x, y8, bottom=y9+y10, linewidth=0.5,width=20, align=\"center\", color=colors[7], label='Support for public health and clinical capacity')\n",
    "plt.bar(x, y9, bottom=y10, linewidth=0.5,width=20, align=\"center\", color=colors[8], label='Travel restrictions')\n",
    "plt.bar(x, y10, bottom=0, linewidth=0.5, width=20, align=\"center\", color=colors[9], label='Vaccinations')\n",
    "\n",
    "ax.xaxis_date()\n",
    "\n",
    "# Changes x-axis range\n",
    "plt.gca().set_xbound(left, right)\n",
    "\n",
    "# Changes y-axis range\n",
    "plt.gca().set_ybound(0,7000)\n",
    "\n",
    "# Set major and minor date tick locators\n",
    "maj_loc = mdates.YearLocator()\n",
    "ax.xaxis.set_major_locator(maj_loc)\n",
    "min_loc = mdates.MonthLocator()\n",
    "ax.xaxis.set_minor_locator(min_loc)\n",
    "\n",
    "# Set major date tick formatter\n",
    "maj_fmt = mdates.DateFormatter('%Y')\n",
    "ax.xaxis.set_major_formatter(maj_fmt)\n",
    "\n",
    "# Hide minor tick labels\n",
    "ax.xaxis.set_tick_params(which='minor', labelbottom=False)\n",
    "\n",
    "# Set title\n",
    "title = \"Policy category distribution by month, globally\"\n",
    "plt.title(title, fontdict=titlefont, loc='left')\n",
    "\n",
    "# Set x-axis label\n",
    "plt.xlabel(\"\")\n",
    "\n",
    "# Extend x-axis without showing labels\n",
    "for label in ax.xaxis.get_ticklabels()[:1]:\n",
    "    label.set_visible(False)\n",
    "    \n",
    "for x in ax.xaxis.get_major_ticks()[:1]:\n",
    "    x.set_visible(False) \n",
    "    \n",
    "for x in ax.xaxis.get_minor_ticks()[:3]:\n",
    "    x.set_visible(False)\n",
    "\n",
    "# Format y-axis label\n",
    "plt.ylabel(\"policies\", rotation=0,loc='top',labelpad=-80,color=chart[1])\n",
    "for tick in ax.get_yticklabels():\n",
    "    tick.set_verticalalignment(\"bottom\")\n",
    "    \n",
    "# after plotting the data, format the labels\n",
    "current_values = plt.gca().get_yticks()\n",
    "plt.gca().set_yticklabels(['{:,.0f}'.format(x) for x in current_values])\n",
    "\n",
    "\n",
    "# Get the legend and modify the handles\n",
    "handles, labels = ax.get_legend_handles_labels()\n",
    "leg = ax.legend(handles=handles, labels=labels, bbox_to_anchor=(1.35,1.03),labelcolor=chart[1],labelspacing=1.2)\n",
    "\n",
    "\n",
    "plt.tight_layout()\n",
    "# plt.show()\n",
    "# plt.savefig('figures/global_cat_per_month.png', dpi=1200, facecolor='w', \n",
    "#             edgecolor='w', \n",
    "#             orientation='portrait',bbox_inches='tight')"
   ]
  },
  {
   "cell_type": "code",
   "execution_count": null,
   "id": "ae895dec-166a-4136-9f11-b02c817e041a",
   "metadata": {},
   "outputs": [],
   "source": []
  }
 ],
 "metadata": {
  "kernelspec": {
   "display_name": "Python 3 (ipykernel)",
   "language": "python",
   "name": "python3"
  },
  "language_info": {
   "codemirror_mode": {
    "name": "ipython",
    "version": 3
   },
   "file_extension": ".py",
   "mimetype": "text/x-python",
   "name": "python",
   "nbconvert_exporter": "python",
   "pygments_lexer": "ipython3",
   "version": "3.9.0"
  }
 },
 "nbformat": 4,
 "nbformat_minor": 5
}
