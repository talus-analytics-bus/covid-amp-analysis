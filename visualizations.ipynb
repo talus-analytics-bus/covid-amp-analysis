{
 "cells": [
  {
   "cell_type": "markdown",
   "id": "f54c267b-8f98-4ad1-b306-f7f6e8b91133",
   "metadata": {},
   "source": [
    "# Processing COVID AMP dataset for analysis and visualization"
   ]
  },
  {
   "cell_type": "markdown",
   "id": "a7a29e24-115a-4140-ad40-137ab35c5837",
   "metadata": {},
   "source": [
    "## Import"
   ]
  },
  {
   "cell_type": "code",
   "execution_count": 1,
   "id": "c1053e26-3016-471f-a1bd-06ebe1a934f5",
   "metadata": {},
   "outputs": [],
   "source": [
    "import pandas as pd\n",
    "import numpy as np\n",
    "from pyairtable import Table\n",
    "\n",
    "from datetime import datetime\n",
    "from datetime import date\n",
    "import matplotlib\n",
    "from matplotlib import font_manager\n",
    "from matplotlib.dates import date2num\n",
    "import matplotlib.pyplot as plt\n",
    "from matplotlib.dates import DateFormatter\n",
    "import matplotlib.dates as md\n",
    "import seaborn as sns\n",
    "import time\n",
    "import string\n",
    "import warnings\n",
    "warnings.filterwarnings('ignore')"
   ]
  },
  {
   "cell_type": "code",
   "execution_count": 2,
   "id": "a903e948-d5d4-4dfd-96af-0bc3089b58c8",
   "metadata": {},
   "outputs": [],
   "source": [
    "base_key = 'appoXaOlIgpiHK3I2'\n",
    "table_name = 'Policy Database'\n",
    "\n",
    "# AIRTABLE API KEY -- DON'T COMMIT INTO GIT!\n",
    "api_key = 'MY_AIRTABLE_KEY'"
   ]
  },
  {
   "cell_type": "code",
   "execution_count": 89,
   "id": "7eac8d09-ea88-47a1-a5d2-2a035d071a91",
   "metadata": {},
   "outputs": [],
   "source": [
    "table = Table(api_key, base_key, table_name)\n",
    "\n",
    "records = table.all()"
   ]
  },
  {
   "cell_type": "code",
   "execution_count": 154,
   "id": "594b6463-ad40-4c71-a00e-a4b36836567b",
   "metadata": {},
   "outputs": [],
   "source": [
    "full = pd.DataFrame.from_records((r['fields'] for r in records))"
   ]
  },
  {
   "cell_type": "markdown",
   "id": "0080f7f8-0ab5-43f9-9d9a-a43ac25db38b",
   "metadata": {},
   "source": [
    "## Cleaning"
   ]
  },
  {
   "cell_type": "code",
   "execution_count": 155,
   "id": "d5016f45-4f95-46bb-adb9-c1a37492d74e",
   "metadata": {},
   "outputs": [],
   "source": [
    "# remove non-policy guidance\n",
    "full = full.loc[full['Policy/law type'] != 'Non-policy guidance']"
   ]
  },
  {
   "cell_type": "code",
   "execution_count": 156,
   "id": "9ff378e5-1883-4c3c-8b00-640faf1d246f",
   "metadata": {},
   "outputs": [],
   "source": [
    "# drop rows missing key information\n",
    "full = full.dropna(subset=['Unique ID',\n",
    "                           'Policy category', \n",
    "                           'Policy description', \n",
    "                           'Authorizing country ISO'])"
   ]
  },
  {
   "cell_type": "code",
   "execution_count": 157,
   "id": "dafa6871-94b7-4940-9c69-51955a2b1c05",
   "metadata": {},
   "outputs": [],
   "source": [
    "# drop down to a select number of relevant columns\n",
    "cols = ['Unique ID','Issued date','Effective start date','Anticipated end date','Actual end date','Policy category','Policy subcategory', 'Policy target','Policy relaxing or restricting','Authorizing country ISO','Auth state names (lookup)']\n",
    "full = full[cols]"
   ]
  },
  {
   "cell_type": "code",
   "execution_count": 158,
   "id": "0561cea0-adde-415c-9dd0-6665f22d1a61",
   "metadata": {},
   "outputs": [],
   "source": [
    "# convert to datetime for indexing\n",
    "full['Issued date'] = pd.to_datetime(full['Issued date'], format='%Y/%m/%d')\n",
    "full['Effective start date'] = pd.to_datetime(full['Effective start date'], format='%Y/%m/%d')\n",
    "full['Anticipated end date'] = pd.to_datetime(full['Anticipated end date'], format='%Y/%m/%d')\n",
    "full['Actual end date'] = pd.to_datetime(full['Actual end date'], format='%Y/%m/%d')\n",
    "\n",
    "# extract year and month for ease of analysis\n",
    "full['Start year'] = full['Effective start date'].dt.strftime('%Y')\n",
    "full['Start month'] = full['Effective start date'].dt.strftime('%B')"
   ]
  },
  {
   "cell_type": "code",
   "execution_count": 159,
   "id": "c25b2b13-930c-4e3e-99bb-7211c39ed4a2",
   "metadata": {},
   "outputs": [],
   "source": [
    "# rename geo columns \n",
    "full = full.rename(columns={'Auth state names (lookup)': 'State', 'Authorizing country ISO':'Country'})"
   ]
  },
  {
   "cell_type": "code",
   "execution_count": 160,
   "id": "bf07b5a0-773e-445f-8f9b-b7da51672131",
   "metadata": {},
   "outputs": [],
   "source": [
    "# remove brackets from state and country name\n",
    "full['State'] = full['State'].astype(str)\n",
    "full['State'] = full['State'].str.extract(\"\\'(.*)\\'\")\n",
    "\n",
    "full['Country'] = full['Country'].astype(str)\n",
    "full['Country'] = full['Country'].str.extract(\"\\'(.*)\\'\")"
   ]
  },
  {
   "cell_type": "code",
   "execution_count": 163,
   "id": "57647c3d-1a43-4ad8-80ea-234fa1b21be7",
   "metadata": {},
   "outputs": [
    {
     "data": {
      "text/html": [
       "<div>\n",
       "<style scoped>\n",
       "    .dataframe tbody tr th:only-of-type {\n",
       "        vertical-align: middle;\n",
       "    }\n",
       "\n",
       "    .dataframe tbody tr th {\n",
       "        vertical-align: top;\n",
       "    }\n",
       "\n",
       "    .dataframe thead th {\n",
       "        text-align: right;\n",
       "    }\n",
       "</style>\n",
       "<table border=\"1\" class=\"dataframe\">\n",
       "  <thead>\n",
       "    <tr style=\"text-align: right;\">\n",
       "      <th></th>\n",
       "      <th>Unique ID</th>\n",
       "      <th>Issued date</th>\n",
       "      <th>Effective start date</th>\n",
       "      <th>Anticipated end date</th>\n",
       "      <th>Actual end date</th>\n",
       "      <th>Policy category</th>\n",
       "      <th>Policy subcategory</th>\n",
       "      <th>Policy target</th>\n",
       "      <th>Policy relaxing or restricting</th>\n",
       "      <th>Country</th>\n",
       "      <th>State</th>\n",
       "      <th>Start year</th>\n",
       "      <th>Start month</th>\n",
       "    </tr>\n",
       "  </thead>\n",
       "  <tbody>\n",
       "    <tr>\n",
       "      <th>0</th>\n",
       "      <td>67754</td>\n",
       "      <td>2021-01-30</td>\n",
       "      <td>2021-01-30</td>\n",
       "      <td>2021-02-28</td>\n",
       "      <td>2021-02-11</td>\n",
       "      <td>Social distancing</td>\n",
       "      <td>Adaptation and mitigation measures</td>\n",
       "      <td>[Businesses/private sector]</td>\n",
       "      <td>Relaxing</td>\n",
       "      <td>USA</td>\n",
       "      <td>Nebraska</td>\n",
       "      <td>2021</td>\n",
       "      <td>January</td>\n",
       "    </tr>\n",
       "    <tr>\n",
       "      <th>1</th>\n",
       "      <td>55202</td>\n",
       "      <td>2020-08-24</td>\n",
       "      <td>2020-08-24</td>\n",
       "      <td>NaT</td>\n",
       "      <td>NaT</td>\n",
       "      <td>Social distancing</td>\n",
       "      <td>Event delays or cancellations</td>\n",
       "      <td>[General population (inclusive)]</td>\n",
       "      <td>Restricting</td>\n",
       "      <td>USA</td>\n",
       "      <td>California</td>\n",
       "      <td>2020</td>\n",
       "      <td>August</td>\n",
       "    </tr>\n",
       "    <tr>\n",
       "      <th>2</th>\n",
       "      <td>127069</td>\n",
       "      <td>2020-04-13</td>\n",
       "      <td>2020-04-13</td>\n",
       "      <td>NaT</td>\n",
       "      <td>NaT</td>\n",
       "      <td>Enabling and relief measures</td>\n",
       "      <td>Hazard pay</td>\n",
       "      <td>[Public sector/public buildings/government emp...</td>\n",
       "      <td>Other</td>\n",
       "      <td>USA</td>\n",
       "      <td>Puerto Rico</td>\n",
       "      <td>2020</td>\n",
       "      <td>April</td>\n",
       "    </tr>\n",
       "    <tr>\n",
       "      <th>3</th>\n",
       "      <td>34911</td>\n",
       "      <td>2020-07-12</td>\n",
       "      <td>2020-07-12</td>\n",
       "      <td>2020-07-17</td>\n",
       "      <td>2020-07-17</td>\n",
       "      <td>Social distancing</td>\n",
       "      <td>Private sector closures</td>\n",
       "      <td>[Restaurants/food service establishments]</td>\n",
       "      <td>Relaxing</td>\n",
       "      <td>USA</td>\n",
       "      <td>New York</td>\n",
       "      <td>2020</td>\n",
       "      <td>July</td>\n",
       "    </tr>\n",
       "    <tr>\n",
       "      <th>4</th>\n",
       "      <td>18897</td>\n",
       "      <td>2021-01-08</td>\n",
       "      <td>2021-01-09</td>\n",
       "      <td>2021-02-07</td>\n",
       "      <td>NaT</td>\n",
       "      <td>Social distancing</td>\n",
       "      <td>Adaptation and mitigation measures</td>\n",
       "      <td>[Criminal justice system/prisons/jails/incarce...</td>\n",
       "      <td>Restricting</td>\n",
       "      <td>USA</td>\n",
       "      <td>Georgia</td>\n",
       "      <td>2021</td>\n",
       "      <td>January</td>\n",
       "    </tr>\n",
       "  </tbody>\n",
       "</table>\n",
       "</div>"
      ],
      "text/plain": [
       "  Unique ID Issued date Effective start date Anticipated end date  \\\n",
       "0     67754  2021-01-30           2021-01-30           2021-02-28   \n",
       "1     55202  2020-08-24           2020-08-24                  NaT   \n",
       "2    127069  2020-04-13           2020-04-13                  NaT   \n",
       "3     34911  2020-07-12           2020-07-12           2020-07-17   \n",
       "4     18897  2021-01-08           2021-01-09           2021-02-07   \n",
       "\n",
       "  Actual end date               Policy category  \\\n",
       "0      2021-02-11             Social distancing   \n",
       "1             NaT             Social distancing   \n",
       "2             NaT  Enabling and relief measures   \n",
       "3      2020-07-17             Social distancing   \n",
       "4             NaT             Social distancing   \n",
       "\n",
       "                   Policy subcategory  \\\n",
       "0  Adaptation and mitigation measures   \n",
       "1       Event delays or cancellations   \n",
       "2                          Hazard pay   \n",
       "3             Private sector closures   \n",
       "4  Adaptation and mitigation measures   \n",
       "\n",
       "                                       Policy target  \\\n",
       "0                        [Businesses/private sector]   \n",
       "1                   [General population (inclusive)]   \n",
       "2  [Public sector/public buildings/government emp...   \n",
       "3          [Restaurants/food service establishments]   \n",
       "4  [Criminal justice system/prisons/jails/incarce...   \n",
       "\n",
       "  Policy relaxing or restricting Country        State Start year Start month  \n",
       "0                       Relaxing     USA     Nebraska       2021     January  \n",
       "1                    Restricting     USA   California       2020      August  \n",
       "2                          Other     USA  Puerto Rico       2020       April  \n",
       "3                       Relaxing     USA     New York       2020        July  \n",
       "4                    Restricting     USA      Georgia       2021     January  "
      ]
     },
     "execution_count": 163,
     "metadata": {},
     "output_type": "execute_result"
    }
   ],
   "source": [
    "full.head()"
   ]
  },
  {
   "cell_type": "code",
   "execution_count": 165,
   "id": "8588b5df-b0eb-40cb-84b3-cf7e972ff1d4",
   "metadata": {},
   "outputs": [],
   "source": [
    "full.to_csv('processed/airtable_cleaned_033123.csv')"
   ]
  },
  {
   "cell_type": "markdown",
   "id": "ebe50d29-f017-47c3-92b2-7a9ebbb987c3",
   "metadata": {},
   "source": [
    "## Analysis"
   ]
  },
  {
   "cell_type": "code",
   "execution_count": 166,
   "id": "040b7460-eac5-4096-adb7-019ad479bf26",
   "metadata": {},
   "outputs": [],
   "source": [
    "clean = full.copy()"
   ]
  },
  {
   "cell_type": "code",
   "execution_count": null,
   "id": "d9407634-741f-420b-8ca3-309514a34a85",
   "metadata": {},
   "outputs": [],
   "source": []
  }
 ],
 "metadata": {
  "kernelspec": {
   "display_name": "Python 3 (ipykernel)",
   "language": "python",
   "name": "python3"
  },
  "language_info": {
   "codemirror_mode": {
    "name": "ipython",
    "version": 3
   },
   "file_extension": ".py",
   "mimetype": "text/x-python",
   "name": "python",
   "nbconvert_exporter": "python",
   "pygments_lexer": "ipython3",
   "version": "3.9.0"
  }
 },
 "nbformat": 4,
 "nbformat_minor": 5
}
